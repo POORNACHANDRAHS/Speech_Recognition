{
 "cells": [
  {
   "cell_type": "code",
   "execution_count": 9,
   "id": "ca43562a-cd2e-4090-9145-02b43ae90e05",
   "metadata": {},
   "outputs": [],
   "source": [
    "import qrcode\n",
    "\n",
    "a=qrcode.make(r\"https://www.linkedin.com/in/poornachandrasgowda/\")\n",
    "a.save(\"qrcode.png\")"
   ]
  },
  {
   "cell_type": "code",
   "execution_count": null,
   "id": "e26eed96-994f-4776-85e6-f1f97519483d",
   "metadata": {},
   "outputs": [],
   "source": []
  }
 ],
 "metadata": {
  "kernelspec": {
   "display_name": "Python 3 (ipykernel)",
   "language": "python",
   "name": "python3"
  },
  "language_info": {
   "codemirror_mode": {
    "name": "ipython",
    "version": 3
   },
   "file_extension": ".py",
   "mimetype": "text/x-python",
   "name": "python",
   "nbconvert_exporter": "python",
   "pygments_lexer": "ipython3",
   "version": "3.11.7"
  }
 },
 "nbformat": 4,
 "nbformat_minor": 5
}
